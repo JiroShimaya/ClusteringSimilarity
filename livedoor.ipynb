{
 "cells": [
  {
   "cell_type": "code",
   "execution_count": 21,
   "metadata": {},
   "outputs": [],
   "source": [
    "import pandas as pd\n",
    "from pathlib import Path"
   ]
  },
  {
   "cell_type": "markdown",
   "metadata": {},
   "source": [
    "* livedoorコーパスをダウンロード\n",
    "  * https://www.rondhuit.com/download.html\n",
    "* 解凍して得たtextフォルダをプロジェクトルートに配置"
   ]
  },
  {
   "cell_type": "code",
   "execution_count": 3,
   "metadata": {},
   "outputs": [],
   "source": [
    "# extract titles\n",
    "DIR_PATH = \"text\"\n",
    "SUBDIR_NAMES = [\"dokujo-tsushin\", \"it-life-hack\", \"kaden-channel\", \"livedoor-homme\", \"movie-enter\", \"peachy\", \"smax\", \"sports-watch\", \"topic-news\"]\n",
    "\n",
    "rows = []\n",
    "for subdir_name in SUBDIR_NAMES:\n",
    "  dir_path = Path(DIR_PATH, subdir_name)\n",
    "  for file in dir_path.iterdir():\n",
    "    # 条件に合わないファイル名のとき処理をスキップ\n",
    "    if not file.stem.startswith(subdir_name): continue\n",
    "\n",
    "    with open(file) as f:\n",
    "      lines = f.read().splitlines()\n",
    "    # ３行目がタイトル\n",
    "    title = lines[2]\n",
    "    rows.append({\n",
    "      \"title\": title\n",
    "      , \"category\": subdir_name\n",
    "    })\n",
    "\n",
    "# データフレームに変換してテキストに出力\n",
    "pd.DataFrame(rows).to_csv(str(Path(DIR_PATH).joinpath(\"titles.csv\")), index=False)"
   ]
  }
 ],
 "metadata": {
  "kernelspec": {
   "display_name": "Python 3.8.6 ('.venv': venv)",
   "language": "python",
   "name": "python3"
  },
  "language_info": {
   "codemirror_mode": {
    "name": "ipython",
    "version": 3
   },
   "file_extension": ".py",
   "mimetype": "text/x-python",
   "name": "python",
   "nbconvert_exporter": "python",
   "pygments_lexer": "ipython3",
   "version": "3.8.6"
  },
  "orig_nbformat": 4,
  "vscode": {
   "interpreter": {
    "hash": "ee66785c2d12082be357f60b53b6454e1233dc7704302fcc0105c907ee27f10e"
   }
  }
 },
 "nbformat": 4,
 "nbformat_minor": 2
}
